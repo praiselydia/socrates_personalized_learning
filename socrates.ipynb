{
 "cells": [
  {
   "cell_type": "markdown",
   "metadata": {},
   "source": [
    "## __SOCRATES: PERSONALIZED LEARNING__\n",
    "\n",
    "### __GROUP MEMBERS:__\n",
    "_Deepti More_\n",
    "\n",
    "_Nagaraju Medaraboina_\n",
    "\n",
    "_Praiselin Gladston_\n",
    "\n",
    "_Shireesha Thyaranahalli Narayana_\n",
    "\n",
    "_Sudharsan Tirumal_"
   ]
  },
  {
   "cell_type": "markdown",
   "metadata": {},
   "source": [
    "### __LOADING REQUIRED LIBRARIES:__"
   ]
  },
  {
   "cell_type": "code",
   "execution_count": 1,
   "metadata": {},
   "outputs": [],
   "source": [
    "import pandas as pd\n",
    "import plotly.express  as px\n",
    "import matplotlib.pyplot as plt\n",
    "import plotly.graph_objects as go\n",
    "\n",
    "plt.style.use('ggplot')"
   ]
  },
  {
   "cell_type": "markdown",
   "metadata": {},
   "source": [
    "### __LOADING EXISTING DATA:__"
   ]
  },
  {
   "cell_type": "code",
   "execution_count": 2,
   "metadata": {},
   "outputs": [
    {
     "data": {
      "text/html": [
       "<style type=\"text/css\">\n",
       "#T_d0c82_row0_col0, #T_d0c82_row0_col1, #T_d0c82_row0_col2, #T_d0c82_row0_col3, #T_d0c82_row0_col4, #T_d0c82_row0_col5, #T_d0c82_row0_col6, #T_d0c82_row0_col7, #T_d0c82_row0_col8, #T_d0c82_row0_col9, #T_d0c82_row0_col10, #T_d0c82_row0_col11, #T_d0c82_row1_col0, #T_d0c82_row1_col1, #T_d0c82_row1_col2, #T_d0c82_row1_col3, #T_d0c82_row1_col4, #T_d0c82_row1_col5, #T_d0c82_row1_col6, #T_d0c82_row1_col7, #T_d0c82_row1_col8, #T_d0c82_row1_col9, #T_d0c82_row1_col10, #T_d0c82_row1_col11, #T_d0c82_row2_col0, #T_d0c82_row2_col1, #T_d0c82_row2_col2, #T_d0c82_row2_col3, #T_d0c82_row2_col4, #T_d0c82_row2_col5, #T_d0c82_row2_col6, #T_d0c82_row2_col7, #T_d0c82_row2_col8, #T_d0c82_row2_col9, #T_d0c82_row2_col10, #T_d0c82_row2_col11, #T_d0c82_row3_col0, #T_d0c82_row3_col1, #T_d0c82_row3_col2, #T_d0c82_row3_col3, #T_d0c82_row3_col4, #T_d0c82_row3_col5, #T_d0c82_row3_col6, #T_d0c82_row3_col7, #T_d0c82_row3_col8, #T_d0c82_row3_col9, #T_d0c82_row3_col10, #T_d0c82_row3_col11, #T_d0c82_row4_col0, #T_d0c82_row4_col1, #T_d0c82_row4_col2, #T_d0c82_row4_col3, #T_d0c82_row4_col4, #T_d0c82_row4_col5, #T_d0c82_row4_col6, #T_d0c82_row4_col7, #T_d0c82_row4_col8, #T_d0c82_row4_col9, #T_d0c82_row4_col10, #T_d0c82_row4_col11 {\n",
       "  background-color: #161717;\n",
       "  color: #30c7e6;\n",
       "  border-color: #8b8c8c;\n",
       "}\n",
       "</style>\n",
       "<table id=\"T_d0c82\">\n",
       "  <thead>\n",
       "    <tr>\n",
       "      <th class=\"blank level0\" >&nbsp;</th>\n",
       "      <th id=\"T_d0c82_level0_col0\" class=\"col_heading level0 col0\" >course_id</th>\n",
       "      <th id=\"T_d0c82_level0_col1\" class=\"col_heading level0 col1\" >course_title</th>\n",
       "      <th id=\"T_d0c82_level0_col2\" class=\"col_heading level0 col2\" >url</th>\n",
       "      <th id=\"T_d0c82_level0_col3\" class=\"col_heading level0 col3\" >is_paid</th>\n",
       "      <th id=\"T_d0c82_level0_col4\" class=\"col_heading level0 col4\" >price</th>\n",
       "      <th id=\"T_d0c82_level0_col5\" class=\"col_heading level0 col5\" >num_subscribers</th>\n",
       "      <th id=\"T_d0c82_level0_col6\" class=\"col_heading level0 col6\" >num_reviews</th>\n",
       "      <th id=\"T_d0c82_level0_col7\" class=\"col_heading level0 col7\" >num_lectures</th>\n",
       "      <th id=\"T_d0c82_level0_col8\" class=\"col_heading level0 col8\" >level</th>\n",
       "      <th id=\"T_d0c82_level0_col9\" class=\"col_heading level0 col9\" >content_duration</th>\n",
       "      <th id=\"T_d0c82_level0_col10\" class=\"col_heading level0 col10\" >published_timestamp</th>\n",
       "      <th id=\"T_d0c82_level0_col11\" class=\"col_heading level0 col11\" >subject</th>\n",
       "    </tr>\n",
       "  </thead>\n",
       "  <tbody>\n",
       "    <tr>\n",
       "      <th id=\"T_d0c82_level0_row0\" class=\"row_heading level0 row0\" >0</th>\n",
       "      <td id=\"T_d0c82_row0_col0\" class=\"data row0 col0\" >413618</td>\n",
       "      <td id=\"T_d0c82_row0_col1\" class=\"data row0 col1\" >SASS - Beginner Crash Course</td>\n",
       "      <td id=\"T_d0c82_row0_col2\" class=\"data row0 col2\" >https://www.udemy.com/sass-beginner-crash-course/</td>\n",
       "      <td id=\"T_d0c82_row0_col3\" class=\"data row0 col3\" >True</td>\n",
       "      <td id=\"T_d0c82_row0_col4\" class=\"data row0 col4\" >25</td>\n",
       "      <td id=\"T_d0c82_row0_col5\" class=\"data row0 col5\" >1143</td>\n",
       "      <td id=\"T_d0c82_row0_col6\" class=\"data row0 col6\" >34</td>\n",
       "      <td id=\"T_d0c82_row0_col7\" class=\"data row0 col7\" >13</td>\n",
       "      <td id=\"T_d0c82_row0_col8\" class=\"data row0 col8\" >Beginner Level</td>\n",
       "      <td id=\"T_d0c82_row0_col9\" class=\"data row0 col9\" >1.000000</td>\n",
       "      <td id=\"T_d0c82_row0_col10\" class=\"data row0 col10\" >2015-02-12T17:13:26Z</td>\n",
       "      <td id=\"T_d0c82_row0_col11\" class=\"data row0 col11\" >Web Development</td>\n",
       "    </tr>\n",
       "    <tr>\n",
       "      <th id=\"T_d0c82_level0_row1\" class=\"row_heading level0 row1\" >1</th>\n",
       "      <td id=\"T_d0c82_row1_col0\" class=\"data row1 col0\" >1107986</td>\n",
       "      <td id=\"T_d0c82_row1_col1\" class=\"data row1 col1\" >Building Data Visualizations with D3 and Angular 2</td>\n",
       "      <td id=\"T_d0c82_row1_col2\" class=\"data row1 col2\" >https://www.udemy.com/building-data-visualizations-with-d3-and-angular-2/</td>\n",
       "      <td id=\"T_d0c82_row1_col3\" class=\"data row1 col3\" >True</td>\n",
       "      <td id=\"T_d0c82_row1_col4\" class=\"data row1 col4\" >125</td>\n",
       "      <td id=\"T_d0c82_row1_col5\" class=\"data row1 col5\" >293</td>\n",
       "      <td id=\"T_d0c82_row1_col6\" class=\"data row1 col6\" >30</td>\n",
       "      <td id=\"T_d0c82_row1_col7\" class=\"data row1 col7\" >31</td>\n",
       "      <td id=\"T_d0c82_row1_col8\" class=\"data row1 col8\" >Beginner Level</td>\n",
       "      <td id=\"T_d0c82_row1_col9\" class=\"data row1 col9\" >3.500000</td>\n",
       "      <td id=\"T_d0c82_row1_col10\" class=\"data row1 col10\" >2017-02-23T14:19:16Z</td>\n",
       "      <td id=\"T_d0c82_row1_col11\" class=\"data row1 col11\" >Web Development</td>\n",
       "    </tr>\n",
       "    <tr>\n",
       "      <th id=\"T_d0c82_level0_row2\" class=\"row_heading level0 row2\" >2</th>\n",
       "      <td id=\"T_d0c82_row2_col0\" class=\"data row2 col0\" >919906</td>\n",
       "      <td id=\"T_d0c82_row2_col1\" class=\"data row2 col1\" >Trading Options For Consistent Returns: Options Basics</td>\n",
       "      <td id=\"T_d0c82_row2_col2\" class=\"data row2 col2\" >https://www.udemy.com/trading-options-for-income/</td>\n",
       "      <td id=\"T_d0c82_row2_col3\" class=\"data row2 col3\" >False</td>\n",
       "      <td id=\"T_d0c82_row2_col4\" class=\"data row2 col4\" >0</td>\n",
       "      <td id=\"T_d0c82_row2_col5\" class=\"data row2 col5\" >4077</td>\n",
       "      <td id=\"T_d0c82_row2_col6\" class=\"data row2 col6\" >281</td>\n",
       "      <td id=\"T_d0c82_row2_col7\" class=\"data row2 col7\" >20</td>\n",
       "      <td id=\"T_d0c82_row2_col8\" class=\"data row2 col8\" >Beginner Level</td>\n",
       "      <td id=\"T_d0c82_row2_col9\" class=\"data row2 col9\" >1.500000</td>\n",
       "      <td id=\"T_d0c82_row2_col10\" class=\"data row2 col10\" >2016-08-18T21:57:04Z</td>\n",
       "      <td id=\"T_d0c82_row2_col11\" class=\"data row2 col11\" >Business Finance</td>\n",
       "    </tr>\n",
       "    <tr>\n",
       "      <th id=\"T_d0c82_level0_row3\" class=\"row_heading level0 row3\" >3</th>\n",
       "      <td id=\"T_d0c82_row3_col0\" class=\"data row3 col0\" >1147458</td>\n",
       "      <td id=\"T_d0c82_row3_col1\" class=\"data row3 col1\" >Complete Trading Plan Course for Stocks & Forex (10 Hours)</td>\n",
       "      <td id=\"T_d0c82_row3_col2\" class=\"data row3 col2\" >https://www.udemy.com/killer-trading-plan-6-year-old-can-invest-10-hours-stocks-forex-etf/</td>\n",
       "      <td id=\"T_d0c82_row3_col3\" class=\"data row3 col3\" >True</td>\n",
       "      <td id=\"T_d0c82_row3_col4\" class=\"data row3 col4\" >200</td>\n",
       "      <td id=\"T_d0c82_row3_col5\" class=\"data row3 col5\" >1087</td>\n",
       "      <td id=\"T_d0c82_row3_col6\" class=\"data row3 col6\" >14</td>\n",
       "      <td id=\"T_d0c82_row3_col7\" class=\"data row3 col7\" >61</td>\n",
       "      <td id=\"T_d0c82_row3_col8\" class=\"data row3 col8\" >All Levels</td>\n",
       "      <td id=\"T_d0c82_row3_col9\" class=\"data row3 col9\" >9.500000</td>\n",
       "      <td id=\"T_d0c82_row3_col10\" class=\"data row3 col10\" >2017-03-23T05:54:27Z</td>\n",
       "      <td id=\"T_d0c82_row3_col11\" class=\"data row3 col11\" >Business Finance</td>\n",
       "    </tr>\n",
       "    <tr>\n",
       "      <th id=\"T_d0c82_level0_row4\" class=\"row_heading level0 row4\" >4</th>\n",
       "      <td id=\"T_d0c82_row4_col0\" class=\"data row4 col0\" >486412</td>\n",
       "      <td id=\"T_d0c82_row4_col1\" class=\"data row4 col1\" >Learning Electric Guitar for Absolute Beginners</td>\n",
       "      <td id=\"T_d0c82_row4_col2\" class=\"data row4 col2\" >https://www.udemy.com/electricguitarforabsolutebeginners/</td>\n",
       "      <td id=\"T_d0c82_row4_col3\" class=\"data row4 col3\" >True</td>\n",
       "      <td id=\"T_d0c82_row4_col4\" class=\"data row4 col4\" >35</td>\n",
       "      <td id=\"T_d0c82_row4_col5\" class=\"data row4 col5\" >19</td>\n",
       "      <td id=\"T_d0c82_row4_col6\" class=\"data row4 col6\" >2</td>\n",
       "      <td id=\"T_d0c82_row4_col7\" class=\"data row4 col7\" >12</td>\n",
       "      <td id=\"T_d0c82_row4_col8\" class=\"data row4 col8\" >Beginner Level</td>\n",
       "      <td id=\"T_d0c82_row4_col9\" class=\"data row4 col9\" >1.500000</td>\n",
       "      <td id=\"T_d0c82_row4_col10\" class=\"data row4 col10\" >2015-05-04T21:47:44Z</td>\n",
       "      <td id=\"T_d0c82_row4_col11\" class=\"data row4 col11\" >Musical Instruments</td>\n",
       "    </tr>\n",
       "  </tbody>\n",
       "</table>\n"
      ],
      "text/plain": [
       "<pandas.io.formats.style.Styler at 0x12e8e92a3d0>"
      ]
     },
     "execution_count": 2,
     "metadata": {},
     "output_type": "execute_result"
    }
   ],
   "source": [
    "courses_df = pd.read_csv('data/udemy_courses.csv')\n",
    "\n",
    "# Print sample\n",
    "courses_df.sample(5).reset_index(drop=True).style.set_properties(**{'background-color': '#161717','color': '#30c7e6','border-color': '#8b8c8c'})"
   ]
  },
  {
   "cell_type": "markdown",
   "metadata": {},
   "source": [
    "### __DATA PREPROCESSING:__"
   ]
  },
  {
   "cell_type": "code",
   "execution_count": 3,
   "metadata": {},
   "outputs": [],
   "source": [
    "# Handle missing values if any\n",
    "courses_df.dropna(inplace=True)"
   ]
  },
  {
   "cell_type": "code",
   "execution_count": 4,
   "metadata": {},
   "outputs": [
    {
     "data": {
      "application/vnd.plotly.v1+json": {
       "config": {
        "plotlyServerURL": "https://plot.ly"
       },
       "data": [
        {
         "hole": 0.7,
         "labels": [
          "Web Development",
          "Business Finance",
          "Musical Instruments",
          "Graphic Design"
         ],
         "marker": {
          "colors": [
           "rgb(8,48,107)",
           "rgb(8,81,156)",
           "rgb(33,113,181)",
           "rgb(66,146,198)",
           "rgb(107,174,214)",
           "rgb(158,202,225)",
           "rgb(198,219,239)",
           "rgb(222,235,247)",
           "rgb(247,251,255)"
          ]
         },
         "title": {
          "text": "% of Courses by Subject"
         },
         "type": "pie",
         "values": [
          1200,
          1195,
          680,
          603
         ]
        }
       ],
       "layout": {
        "template": {
         "data": {
          "bar": [
           {
            "error_x": {
             "color": "#2a3f5f"
            },
            "error_y": {
             "color": "#2a3f5f"
            },
            "marker": {
             "line": {
              "color": "#E5ECF6",
              "width": 0.5
             },
             "pattern": {
              "fillmode": "overlay",
              "size": 10,
              "solidity": 0.2
             }
            },
            "type": "bar"
           }
          ],
          "barpolar": [
           {
            "marker": {
             "line": {
              "color": "#E5ECF6",
              "width": 0.5
             },
             "pattern": {
              "fillmode": "overlay",
              "size": 10,
              "solidity": 0.2
             }
            },
            "type": "barpolar"
           }
          ],
          "carpet": [
           {
            "aaxis": {
             "endlinecolor": "#2a3f5f",
             "gridcolor": "white",
             "linecolor": "white",
             "minorgridcolor": "white",
             "startlinecolor": "#2a3f5f"
            },
            "baxis": {
             "endlinecolor": "#2a3f5f",
             "gridcolor": "white",
             "linecolor": "white",
             "minorgridcolor": "white",
             "startlinecolor": "#2a3f5f"
            },
            "type": "carpet"
           }
          ],
          "choropleth": [
           {
            "colorbar": {
             "outlinewidth": 0,
             "ticks": ""
            },
            "type": "choropleth"
           }
          ],
          "contour": [
           {
            "colorbar": {
             "outlinewidth": 0,
             "ticks": ""
            },
            "colorscale": [
             [
              0,
              "#0d0887"
             ],
             [
              0.1111111111111111,
              "#46039f"
             ],
             [
              0.2222222222222222,
              "#7201a8"
             ],
             [
              0.3333333333333333,
              "#9c179e"
             ],
             [
              0.4444444444444444,
              "#bd3786"
             ],
             [
              0.5555555555555556,
              "#d8576b"
             ],
             [
              0.6666666666666666,
              "#ed7953"
             ],
             [
              0.7777777777777778,
              "#fb9f3a"
             ],
             [
              0.8888888888888888,
              "#fdca26"
             ],
             [
              1,
              "#f0f921"
             ]
            ],
            "type": "contour"
           }
          ],
          "contourcarpet": [
           {
            "colorbar": {
             "outlinewidth": 0,
             "ticks": ""
            },
            "type": "contourcarpet"
           }
          ],
          "heatmap": [
           {
            "colorbar": {
             "outlinewidth": 0,
             "ticks": ""
            },
            "colorscale": [
             [
              0,
              "#0d0887"
             ],
             [
              0.1111111111111111,
              "#46039f"
             ],
             [
              0.2222222222222222,
              "#7201a8"
             ],
             [
              0.3333333333333333,
              "#9c179e"
             ],
             [
              0.4444444444444444,
              "#bd3786"
             ],
             [
              0.5555555555555556,
              "#d8576b"
             ],
             [
              0.6666666666666666,
              "#ed7953"
             ],
             [
              0.7777777777777778,
              "#fb9f3a"
             ],
             [
              0.8888888888888888,
              "#fdca26"
             ],
             [
              1,
              "#f0f921"
             ]
            ],
            "type": "heatmap"
           }
          ],
          "heatmapgl": [
           {
            "colorbar": {
             "outlinewidth": 0,
             "ticks": ""
            },
            "colorscale": [
             [
              0,
              "#0d0887"
             ],
             [
              0.1111111111111111,
              "#46039f"
             ],
             [
              0.2222222222222222,
              "#7201a8"
             ],
             [
              0.3333333333333333,
              "#9c179e"
             ],
             [
              0.4444444444444444,
              "#bd3786"
             ],
             [
              0.5555555555555556,
              "#d8576b"
             ],
             [
              0.6666666666666666,
              "#ed7953"
             ],
             [
              0.7777777777777778,
              "#fb9f3a"
             ],
             [
              0.8888888888888888,
              "#fdca26"
             ],
             [
              1,
              "#f0f921"
             ]
            ],
            "type": "heatmapgl"
           }
          ],
          "histogram": [
           {
            "marker": {
             "pattern": {
              "fillmode": "overlay",
              "size": 10,
              "solidity": 0.2
             }
            },
            "type": "histogram"
           }
          ],
          "histogram2d": [
           {
            "colorbar": {
             "outlinewidth": 0,
             "ticks": ""
            },
            "colorscale": [
             [
              0,
              "#0d0887"
             ],
             [
              0.1111111111111111,
              "#46039f"
             ],
             [
              0.2222222222222222,
              "#7201a8"
             ],
             [
              0.3333333333333333,
              "#9c179e"
             ],
             [
              0.4444444444444444,
              "#bd3786"
             ],
             [
              0.5555555555555556,
              "#d8576b"
             ],
             [
              0.6666666666666666,
              "#ed7953"
             ],
             [
              0.7777777777777778,
              "#fb9f3a"
             ],
             [
              0.8888888888888888,
              "#fdca26"
             ],
             [
              1,
              "#f0f921"
             ]
            ],
            "type": "histogram2d"
           }
          ],
          "histogram2dcontour": [
           {
            "colorbar": {
             "outlinewidth": 0,
             "ticks": ""
            },
            "colorscale": [
             [
              0,
              "#0d0887"
             ],
             [
              0.1111111111111111,
              "#46039f"
             ],
             [
              0.2222222222222222,
              "#7201a8"
             ],
             [
              0.3333333333333333,
              "#9c179e"
             ],
             [
              0.4444444444444444,
              "#bd3786"
             ],
             [
              0.5555555555555556,
              "#d8576b"
             ],
             [
              0.6666666666666666,
              "#ed7953"
             ],
             [
              0.7777777777777778,
              "#fb9f3a"
             ],
             [
              0.8888888888888888,
              "#fdca26"
             ],
             [
              1,
              "#f0f921"
             ]
            ],
            "type": "histogram2dcontour"
           }
          ],
          "mesh3d": [
           {
            "colorbar": {
             "outlinewidth": 0,
             "ticks": ""
            },
            "type": "mesh3d"
           }
          ],
          "parcoords": [
           {
            "line": {
             "colorbar": {
              "outlinewidth": 0,
              "ticks": ""
             }
            },
            "type": "parcoords"
           }
          ],
          "pie": [
           {
            "automargin": true,
            "type": "pie"
           }
          ],
          "scatter": [
           {
            "fillpattern": {
             "fillmode": "overlay",
             "size": 10,
             "solidity": 0.2
            },
            "type": "scatter"
           }
          ],
          "scatter3d": [
           {
            "line": {
             "colorbar": {
              "outlinewidth": 0,
              "ticks": ""
             }
            },
            "marker": {
             "colorbar": {
              "outlinewidth": 0,
              "ticks": ""
             }
            },
            "type": "scatter3d"
           }
          ],
          "scattercarpet": [
           {
            "marker": {
             "colorbar": {
              "outlinewidth": 0,
              "ticks": ""
             }
            },
            "type": "scattercarpet"
           }
          ],
          "scattergeo": [
           {
            "marker": {
             "colorbar": {
              "outlinewidth": 0,
              "ticks": ""
             }
            },
            "type": "scattergeo"
           }
          ],
          "scattergl": [
           {
            "marker": {
             "colorbar": {
              "outlinewidth": 0,
              "ticks": ""
             }
            },
            "type": "scattergl"
           }
          ],
          "scattermapbox": [
           {
            "marker": {
             "colorbar": {
              "outlinewidth": 0,
              "ticks": ""
             }
            },
            "type": "scattermapbox"
           }
          ],
          "scatterpolar": [
           {
            "marker": {
             "colorbar": {
              "outlinewidth": 0,
              "ticks": ""
             }
            },
            "type": "scatterpolar"
           }
          ],
          "scatterpolargl": [
           {
            "marker": {
             "colorbar": {
              "outlinewidth": 0,
              "ticks": ""
             }
            },
            "type": "scatterpolargl"
           }
          ],
          "scatterternary": [
           {
            "marker": {
             "colorbar": {
              "outlinewidth": 0,
              "ticks": ""
             }
            },
            "type": "scatterternary"
           }
          ],
          "surface": [
           {
            "colorbar": {
             "outlinewidth": 0,
             "ticks": ""
            },
            "colorscale": [
             [
              0,
              "#0d0887"
             ],
             [
              0.1111111111111111,
              "#46039f"
             ],
             [
              0.2222222222222222,
              "#7201a8"
             ],
             [
              0.3333333333333333,
              "#9c179e"
             ],
             [
              0.4444444444444444,
              "#bd3786"
             ],
             [
              0.5555555555555556,
              "#d8576b"
             ],
             [
              0.6666666666666666,
              "#ed7953"
             ],
             [
              0.7777777777777778,
              "#fb9f3a"
             ],
             [
              0.8888888888888888,
              "#fdca26"
             ],
             [
              1,
              "#f0f921"
             ]
            ],
            "type": "surface"
           }
          ],
          "table": [
           {
            "cells": {
             "fill": {
              "color": "#EBF0F8"
             },
             "line": {
              "color": "white"
             }
            },
            "header": {
             "fill": {
              "color": "#C8D4E3"
             },
             "line": {
              "color": "white"
             }
            },
            "type": "table"
           }
          ]
         },
         "layout": {
          "annotationdefaults": {
           "arrowcolor": "#2a3f5f",
           "arrowhead": 0,
           "arrowwidth": 1
          },
          "autotypenumbers": "strict",
          "coloraxis": {
           "colorbar": {
            "outlinewidth": 0,
            "ticks": ""
           }
          },
          "colorscale": {
           "diverging": [
            [
             0,
             "#8e0152"
            ],
            [
             0.1,
             "#c51b7d"
            ],
            [
             0.2,
             "#de77ae"
            ],
            [
             0.3,
             "#f1b6da"
            ],
            [
             0.4,
             "#fde0ef"
            ],
            [
             0.5,
             "#f7f7f7"
            ],
            [
             0.6,
             "#e6f5d0"
            ],
            [
             0.7,
             "#b8e186"
            ],
            [
             0.8,
             "#7fbc41"
            ],
            [
             0.9,
             "#4d9221"
            ],
            [
             1,
             "#276419"
            ]
           ],
           "sequential": [
            [
             0,
             "#0d0887"
            ],
            [
             0.1111111111111111,
             "#46039f"
            ],
            [
             0.2222222222222222,
             "#7201a8"
            ],
            [
             0.3333333333333333,
             "#9c179e"
            ],
            [
             0.4444444444444444,
             "#bd3786"
            ],
            [
             0.5555555555555556,
             "#d8576b"
            ],
            [
             0.6666666666666666,
             "#ed7953"
            ],
            [
             0.7777777777777778,
             "#fb9f3a"
            ],
            [
             0.8888888888888888,
             "#fdca26"
            ],
            [
             1,
             "#f0f921"
            ]
           ],
           "sequentialminus": [
            [
             0,
             "#0d0887"
            ],
            [
             0.1111111111111111,
             "#46039f"
            ],
            [
             0.2222222222222222,
             "#7201a8"
            ],
            [
             0.3333333333333333,
             "#9c179e"
            ],
            [
             0.4444444444444444,
             "#bd3786"
            ],
            [
             0.5555555555555556,
             "#d8576b"
            ],
            [
             0.6666666666666666,
             "#ed7953"
            ],
            [
             0.7777777777777778,
             "#fb9f3a"
            ],
            [
             0.8888888888888888,
             "#fdca26"
            ],
            [
             1,
             "#f0f921"
            ]
           ]
          },
          "colorway": [
           "#636efa",
           "#EF553B",
           "#00cc96",
           "#ab63fa",
           "#FFA15A",
           "#19d3f3",
           "#FF6692",
           "#B6E880",
           "#FF97FF",
           "#FECB52"
          ],
          "font": {
           "color": "#2a3f5f"
          },
          "geo": {
           "bgcolor": "white",
           "lakecolor": "white",
           "landcolor": "#E5ECF6",
           "showlakes": true,
           "showland": true,
           "subunitcolor": "white"
          },
          "hoverlabel": {
           "align": "left"
          },
          "hovermode": "closest",
          "mapbox": {
           "style": "light"
          },
          "paper_bgcolor": "white",
          "plot_bgcolor": "#E5ECF6",
          "polar": {
           "angularaxis": {
            "gridcolor": "white",
            "linecolor": "white",
            "ticks": ""
           },
           "bgcolor": "#E5ECF6",
           "radialaxis": {
            "gridcolor": "white",
            "linecolor": "white",
            "ticks": ""
           }
          },
          "scene": {
           "xaxis": {
            "backgroundcolor": "#E5ECF6",
            "gridcolor": "white",
            "gridwidth": 2,
            "linecolor": "white",
            "showbackground": true,
            "ticks": "",
            "zerolinecolor": "white"
           },
           "yaxis": {
            "backgroundcolor": "#E5ECF6",
            "gridcolor": "white",
            "gridwidth": 2,
            "linecolor": "white",
            "showbackground": true,
            "ticks": "",
            "zerolinecolor": "white"
           },
           "zaxis": {
            "backgroundcolor": "#E5ECF6",
            "gridcolor": "white",
            "gridwidth": 2,
            "linecolor": "white",
            "showbackground": true,
            "ticks": "",
            "zerolinecolor": "white"
           }
          },
          "shapedefaults": {
           "line": {
            "color": "#2a3f5f"
           }
          },
          "ternary": {
           "aaxis": {
            "gridcolor": "white",
            "linecolor": "white",
            "ticks": ""
           },
           "baxis": {
            "gridcolor": "white",
            "linecolor": "white",
            "ticks": ""
           },
           "bgcolor": "#E5ECF6",
           "caxis": {
            "gridcolor": "white",
            "linecolor": "white",
            "ticks": ""
           }
          },
          "title": {
           "x": 0.05
          },
          "xaxis": {
           "automargin": true,
           "gridcolor": "white",
           "linecolor": "white",
           "ticks": "",
           "title": {
            "standoff": 15
           },
           "zerolinecolor": "white",
           "zerolinewidth": 2
          },
          "yaxis": {
           "automargin": true,
           "gridcolor": "white",
           "linecolor": "white",
           "ticks": "",
           "title": {
            "standoff": 15
           },
           "zerolinecolor": "white",
           "zerolinewidth": 2
          }
         }
        },
        "title": {
         "text": "Amount of Courses by Subject"
        }
       }
      }
     },
     "metadata": {},
     "output_type": "display_data"
    }
   ],
   "source": [
    "temp_df = courses_df['subject'].value_counts().reset_index()\n",
    "\n",
    "fig = go.Figure(data=[go.Pie(labels=temp_df['subject'],\n",
    "                             values=temp_df['count'],\n",
    "                             hole=.7,\n",
    "                             title = '% of Courses by Subject',\n",
    "                             marker_colors = px.colors.sequential.Blues_r,\n",
    "                            )\n",
    "                     \n",
    "                     ])\n",
    "fig.update_layout(title='Amount of Courses by Subject')\n",
    "fig.show()"
   ]
  },
  {
   "cell_type": "code",
   "execution_count": 5,
   "metadata": {},
   "outputs": [
    {
     "name": "stdout",
     "output_type": "stream",
     "text": [
      "Number of duplicate rows: 6\n"
     ]
    }
   ],
   "source": [
    "# Check if there are any duplicate rows\n",
    "print(\"Number of duplicate rows:\", courses_df.duplicated().sum())"
   ]
  },
  {
   "cell_type": "code",
   "execution_count": 6,
   "metadata": {},
   "outputs": [],
   "source": [
    "# Drop irrelevant columns (e.g., course_id, url)\n",
    "courses_df.drop(['course_id', 'url'], axis=1, inplace=True)"
   ]
  },
  {
   "cell_type": "code",
   "execution_count": 7,
   "metadata": {},
   "outputs": [
    {
     "data": {
      "text/html": [
       "<style type=\"text/css\">\n",
       "#T_9af7c_row0_col0, #T_9af7c_row0_col1, #T_9af7c_row0_col2, #T_9af7c_row0_col3, #T_9af7c_row0_col4, #T_9af7c_row0_col5, #T_9af7c_row0_col6, #T_9af7c_row0_col7, #T_9af7c_row0_col8, #T_9af7c_row0_col9, #T_9af7c_row1_col0, #T_9af7c_row1_col1, #T_9af7c_row1_col2, #T_9af7c_row1_col3, #T_9af7c_row1_col4, #T_9af7c_row1_col5, #T_9af7c_row1_col6, #T_9af7c_row1_col7, #T_9af7c_row1_col8, #T_9af7c_row1_col9, #T_9af7c_row2_col0, #T_9af7c_row2_col1, #T_9af7c_row2_col2, #T_9af7c_row2_col3, #T_9af7c_row2_col4, #T_9af7c_row2_col5, #T_9af7c_row2_col6, #T_9af7c_row2_col7, #T_9af7c_row2_col8, #T_9af7c_row2_col9, #T_9af7c_row3_col0, #T_9af7c_row3_col1, #T_9af7c_row3_col2, #T_9af7c_row3_col3, #T_9af7c_row3_col4, #T_9af7c_row3_col5, #T_9af7c_row3_col6, #T_9af7c_row3_col7, #T_9af7c_row3_col8, #T_9af7c_row3_col9, #T_9af7c_row4_col0, #T_9af7c_row4_col1, #T_9af7c_row4_col2, #T_9af7c_row4_col3, #T_9af7c_row4_col4, #T_9af7c_row4_col5, #T_9af7c_row4_col6, #T_9af7c_row4_col7, #T_9af7c_row4_col8, #T_9af7c_row4_col9 {\n",
       "  background-color: #161717;\n",
       "  color: #30c7e6;\n",
       "  border-color: #8b8c8c;\n",
       "}\n",
       "</style>\n",
       "<table id=\"T_9af7c\">\n",
       "  <thead>\n",
       "    <tr>\n",
       "      <th class=\"blank level0\" >&nbsp;</th>\n",
       "      <th id=\"T_9af7c_level0_col0\" class=\"col_heading level0 col0\" >course_title</th>\n",
       "      <th id=\"T_9af7c_level0_col1\" class=\"col_heading level0 col1\" >is_paid</th>\n",
       "      <th id=\"T_9af7c_level0_col2\" class=\"col_heading level0 col2\" >price</th>\n",
       "      <th id=\"T_9af7c_level0_col3\" class=\"col_heading level0 col3\" >num_subscribers</th>\n",
       "      <th id=\"T_9af7c_level0_col4\" class=\"col_heading level0 col4\" >num_reviews</th>\n",
       "      <th id=\"T_9af7c_level0_col5\" class=\"col_heading level0 col5\" >num_lectures</th>\n",
       "      <th id=\"T_9af7c_level0_col6\" class=\"col_heading level0 col6\" >level</th>\n",
       "      <th id=\"T_9af7c_level0_col7\" class=\"col_heading level0 col7\" >content_duration</th>\n",
       "      <th id=\"T_9af7c_level0_col8\" class=\"col_heading level0 col8\" >published_timestamp</th>\n",
       "      <th id=\"T_9af7c_level0_col9\" class=\"col_heading level0 col9\" >subject</th>\n",
       "    </tr>\n",
       "  </thead>\n",
       "  <tbody>\n",
       "    <tr>\n",
       "      <th id=\"T_9af7c_level0_row0\" class=\"row_heading level0 row0\" >0</th>\n",
       "      <td id=\"T_9af7c_row0_col0\" class=\"data row0 col0\" >How to Design an Awesome Letterhead in Adobe Illustrator</td>\n",
       "      <td id=\"T_9af7c_row0_col1\" class=\"data row0 col1\" >False</td>\n",
       "      <td id=\"T_9af7c_row0_col2\" class=\"data row0 col2\" >0</td>\n",
       "      <td id=\"T_9af7c_row0_col3\" class=\"data row0 col3\" >4776</td>\n",
       "      <td id=\"T_9af7c_row0_col4\" class=\"data row0 col4\" >115</td>\n",
       "      <td id=\"T_9af7c_row0_col5\" class=\"data row0 col5\" >18</td>\n",
       "      <td id=\"T_9af7c_row0_col6\" class=\"data row0 col6\" >All Levels</td>\n",
       "      <td id=\"T_9af7c_row0_col7\" class=\"data row0 col7\" >0.566667</td>\n",
       "      <td id=\"T_9af7c_row0_col8\" class=\"data row0 col8\" >2017-03-03T03:20:22Z</td>\n",
       "      <td id=\"T_9af7c_row0_col9\" class=\"data row0 col9\" >Graphic Design</td>\n",
       "    </tr>\n",
       "    <tr>\n",
       "      <th id=\"T_9af7c_level0_row1\" class=\"row_heading level0 row1\" >1</th>\n",
       "      <td id=\"T_9af7c_row1_col0\" class=\"data row1 col0\" >Instant Harmonica - play 12 bar blues Big Walter style now!</td>\n",
       "      <td id=\"T_9af7c_row1_col1\" class=\"data row1 col1\" >True</td>\n",
       "      <td id=\"T_9af7c_row1_col2\" class=\"data row1 col2\" >40</td>\n",
       "      <td id=\"T_9af7c_row1_col3\" class=\"data row1 col3\" >31</td>\n",
       "      <td id=\"T_9af7c_row1_col4\" class=\"data row1 col4\" >2</td>\n",
       "      <td id=\"T_9af7c_row1_col5\" class=\"data row1 col5\" >14</td>\n",
       "      <td id=\"T_9af7c_row1_col6\" class=\"data row1 col6\" >All Levels</td>\n",
       "      <td id=\"T_9af7c_row1_col7\" class=\"data row1 col7\" >1.000000</td>\n",
       "      <td id=\"T_9af7c_row1_col8\" class=\"data row1 col8\" >2017-05-19T12:26:28Z</td>\n",
       "      <td id=\"T_9af7c_row1_col9\" class=\"data row1 col9\" >Musical Instruments</td>\n",
       "    </tr>\n",
       "    <tr>\n",
       "      <th id=\"T_9af7c_level0_row2\" class=\"row_heading level0 row2\" >2</th>\n",
       "      <td id=\"T_9af7c_row2_col0\" class=\"data row2 col0\" >ASP.NET MVC 5 Project - Facebook Clone</td>\n",
       "      <td id=\"T_9af7c_row2_col1\" class=\"data row2 col1\" >True</td>\n",
       "      <td id=\"T_9af7c_row2_col2\" class=\"data row2 col2\" >30</td>\n",
       "      <td id=\"T_9af7c_row2_col3\" class=\"data row2 col3\" >210</td>\n",
       "      <td id=\"T_9af7c_row2_col4\" class=\"data row2 col4\" >19</td>\n",
       "      <td id=\"T_9af7c_row2_col5\" class=\"data row2 col5\" >41</td>\n",
       "      <td id=\"T_9af7c_row2_col6\" class=\"data row2 col6\" >All Levels</td>\n",
       "      <td id=\"T_9af7c_row2_col7\" class=\"data row2 col7\" >5.000000</td>\n",
       "      <td id=\"T_9af7c_row2_col8\" class=\"data row2 col8\" >2017-02-09T04:38:46Z</td>\n",
       "      <td id=\"T_9af7c_row2_col9\" class=\"data row2 col9\" >Web Development</td>\n",
       "    </tr>\n",
       "    <tr>\n",
       "      <th id=\"T_9af7c_level0_row3\" class=\"row_heading level0 row3\" >3</th>\n",
       "      <td id=\"T_9af7c_row3_col0\" class=\"data row3 col0\" >Trading Trends in ANY Market</td>\n",
       "      <td id=\"T_9af7c_row3_col1\" class=\"data row3 col1\" >True</td>\n",
       "      <td id=\"T_9af7c_row3_col2\" class=\"data row3 col2\" >30</td>\n",
       "      <td id=\"T_9af7c_row3_col3\" class=\"data row3 col3\" >632</td>\n",
       "      <td id=\"T_9af7c_row3_col4\" class=\"data row3 col4\" >49</td>\n",
       "      <td id=\"T_9af7c_row3_col5\" class=\"data row3 col5\" >22</td>\n",
       "      <td id=\"T_9af7c_row3_col6\" class=\"data row3 col6\" >All Levels</td>\n",
       "      <td id=\"T_9af7c_row3_col7\" class=\"data row3 col7\" >2.000000</td>\n",
       "      <td id=\"T_9af7c_row3_col8\" class=\"data row3 col8\" >2015-10-04T18:43:16Z</td>\n",
       "      <td id=\"T_9af7c_row3_col9\" class=\"data row3 col9\" >Business Finance</td>\n",
       "    </tr>\n",
       "    <tr>\n",
       "      <th id=\"T_9af7c_level0_row4\" class=\"row_heading level0 row4\" >4</th>\n",
       "      <td id=\"T_9af7c_row4_col0\" class=\"data row4 col0\" >الدروس التعليمية لسوق الفوركس والأسواق المالية الأخرى</td>\n",
       "      <td id=\"T_9af7c_row4_col1\" class=\"data row4 col1\" >False</td>\n",
       "      <td id=\"T_9af7c_row4_col2\" class=\"data row4 col2\" >0</td>\n",
       "      <td id=\"T_9af7c_row4_col3\" class=\"data row4 col3\" >368</td>\n",
       "      <td id=\"T_9af7c_row4_col4\" class=\"data row4 col4\" >3</td>\n",
       "      <td id=\"T_9af7c_row4_col5\" class=\"data row4 col5\" >69</td>\n",
       "      <td id=\"T_9af7c_row4_col6\" class=\"data row4 col6\" >All Levels</td>\n",
       "      <td id=\"T_9af7c_row4_col7\" class=\"data row4 col7\" >20.500000</td>\n",
       "      <td id=\"T_9af7c_row4_col8\" class=\"data row4 col8\" >2017-04-25T15:02:33Z</td>\n",
       "      <td id=\"T_9af7c_row4_col9\" class=\"data row4 col9\" >Business Finance</td>\n",
       "    </tr>\n",
       "  </tbody>\n",
       "</table>\n"
      ],
      "text/plain": [
       "<pandas.io.formats.style.Styler at 0x12eafe98490>"
      ]
     },
     "execution_count": 7,
     "metadata": {},
     "output_type": "execute_result"
    }
   ],
   "source": [
    "# Display the first few rows of the processed dataset\n",
    "courses_df.sample(5).reset_index(drop=True).style.set_properties(**{'background-color': '#161717','color': '#30c7e6','border-color': '#8b8c8c'})"
   ]
  },
  {
   "cell_type": "markdown",
   "metadata": {},
   "source": [
    "### __NATURAL LANGUAGE PROCESSING:__"
   ]
  },
  {
   "cell_type": "code",
   "execution_count": 8,
   "metadata": {},
   "outputs": [],
   "source": [
    "from sklearn.feature_extraction.text import TfidfVectorizer\n",
    "from sklearn.metrics.pairwise import linear_kernel"
   ]
  },
  {
   "cell_type": "code",
   "execution_count": 9,
   "metadata": {},
   "outputs": [],
   "source": [
    "# Combine relevant text columns into a single text feature\n",
    "courses_df['combined_text'] = courses_df['course_title'] + ' ' + courses_df['subject']"
   ]
  },
  {
   "cell_type": "code",
   "execution_count": 10,
   "metadata": {},
   "outputs": [],
   "source": [
    "# Initialize TF-IDF vectorizer\n",
    "tfidf_vectorizer = TfidfVectorizer(stop_words='english')\n",
    "\n",
    "# Fit and transform the text data\n",
    "tfidf_matrix = tfidf_vectorizer.fit_transform(courses_df['combined_text'])"
   ]
  },
  {
   "cell_type": "code",
   "execution_count": 11,
   "metadata": {},
   "outputs": [],
   "source": [
    "# Compute cosine similarity matrix\n",
    "cosine_sim = linear_kernel(tfidf_matrix, tfidf_matrix)"
   ]
  },
  {
   "cell_type": "markdown",
   "metadata": {},
   "source": [
    "### __COURSE RECOMMENDATION DEMO:__"
   ]
  },
  {
   "cell_type": "code",
   "execution_count": 12,
   "metadata": {},
   "outputs": [],
   "source": [
    "# Function to get recommendations based on search query keywords\n",
    "def get_recommendations(search_query):\n",
    "    # Transform the search query using TF-IDF vectorizer\n",
    "    search_query_vec = tfidf_vectorizer.transform([search_query])\n",
    "\n",
    "    # Compute cosine similarity between search query and course descriptions\n",
    "    cosine_sim_query = linear_kernel(search_query_vec, tfidf_matrix).flatten()\n",
    "\n",
    "    # Get indices of courses sorted by similarity score\n",
    "    sim_scores = list(enumerate(cosine_sim_query))\n",
    "    sim_scores = sorted(sim_scores, key=lambda x: x[1], reverse=True)\n",
    "\n",
    "    # Get top 10 most similar courses\n",
    "    sim_scores = sim_scores[:10]\n",
    "    course_indices = [i[0] for i in sim_scores]\n",
    "\n",
    "    return list(courses_df['course_title'].iloc[course_indices])"
   ]
  },
  {
   "cell_type": "code",
   "execution_count": 13,
   "metadata": {},
   "outputs": [
    {
     "name": "stdout",
     "output_type": "stream",
     "text": [
      "Recommended courses based on search query:\n",
      "\n",
      " How to trade\n",
      "How to trade options\n",
      "Learn to Trade for Profit: Find and Trade Winning Stocks\n",
      "Learn to Trade Forex Big U-Turn Trade\n",
      "How to trade in the Forex market\n",
      "Learn To Trade The Forex Naked Price Action Acapulco Trade\n",
      "Learn to Trade Forex Naked Price Action Wammie Trade\n",
      "Day Trading - Learn to Day Trade / Swing Trade In One Hour.\n",
      "Trade for Profit: Find-Trade Stocks Successfully Arabic عربي\n",
      "WE WILL PAY YOU TO TRADE WITH US\n",
      "Trade for a Living\n"
     ]
    }
   ],
   "source": [
    "# Example usage\n",
    "search_query = \"How to trade\"\n",
    "recommendations = get_recommendations(search_query)\n",
    "print(\"Recommended courses based on search query:\\n\\n\", search_query)\n",
    "for course in recommendations:\n",
    "    print(course)"
   ]
  },
  {
   "cell_type": "markdown",
   "metadata": {},
   "source": [
    "### __USER FEEDBACK AND RECOMMENDATION DEMO:__"
   ]
  },
  {
   "cell_type": "code",
   "execution_count": 14,
   "metadata": {},
   "outputs": [],
   "source": [
    "# Initialize feedback for all courses with 0\n",
    "courses_df['rating'] = 0"
   ]
  },
  {
   "cell_type": "code",
   "execution_count": 15,
   "metadata": {},
   "outputs": [],
   "source": [
    "# Function to collect user feedback and suggest alternative courses if rating is low\n",
    "def collect_feedback(course_title, rating):\n",
    "    existing_rating = courses_df[courses_df['course_title'] == course_title]['rating'][0]\n",
    "    updated_rating = (existing_rating + rating) / 2\n",
    "    courses_df.loc[courses_df['course_title'] == course_title, 'rating'] = updated_rating\n",
    "\n",
    "    # Check if rating is low (below threshold)\n",
    "    low_rating_threshold = 3\n",
    "    if rating < low_rating_threshold:\n",
    "        # Get recommendations for alternative courses based on the course title\n",
    "        alternative_courses = get_recommendations(course_title)\n",
    "        print(\"Your rating for the course '{}' is low. Here are some alternative courses you may like:\\n\".format(course_title))\n",
    "        for course in recommendations[1:]:\n",
    "            print(course)"
   ]
  },
  {
   "cell_type": "code",
   "execution_count": 16,
   "metadata": {},
   "outputs": [
    {
     "name": "stdout",
     "output_type": "stream",
     "text": [
      "Your rating for the course 'Ultimate Investment Banking Course' is low. Here are some alternative courses you may like:\n",
      "\n",
      "Learn to Trade for Profit: Find and Trade Winning Stocks\n",
      "Learn to Trade Forex Big U-Turn Trade\n",
      "How to trade in the Forex market\n",
      "Learn To Trade The Forex Naked Price Action Acapulco Trade\n",
      "Learn to Trade Forex Naked Price Action Wammie Trade\n",
      "Day Trading - Learn to Day Trade / Swing Trade In One Hour.\n",
      "Trade for Profit: Find-Trade Stocks Successfully Arabic عربي\n",
      "WE WILL PAY YOU TO TRADE WITH US\n",
      "Trade for a Living\n"
     ]
    }
   ],
   "source": [
    "# Example usage\n",
    "collect_feedback('Ultimate Investment Banking Course', 2)"
   ]
  }
 ],
 "metadata": {
  "kernelspec": {
   "display_name": "CSCN8010_classic_ml",
   "language": "python",
   "name": "python3"
  },
  "language_info": {
   "codemirror_mode": {
    "name": "ipython",
    "version": 3
   },
   "file_extension": ".py",
   "mimetype": "text/x-python",
   "name": "python",
   "nbconvert_exporter": "python",
   "pygments_lexer": "ipython3",
   "version": "3.11.7"
  }
 },
 "nbformat": 4,
 "nbformat_minor": 2
}
